{
 "cells": [
  {
   "cell_type": "markdown",
   "metadata": {},
   "source": [
    "# From Score Matching to DDPM: Swiss Roll Diffusion Example\n",
    "\n",
    "In this next section we will go from the simple Langevin dynamics example to Denoising Diffusion Probabilistic Models (DDPM) [Ho et al](https://arxiv.org/abs/2006.11239).\n",
    "The Langevin dynamics example required the knowledge of the score function, which we derived from the bimodal Gaussian \n",
    "PDF using `jax.grad`.\n",
    "\n",
    "However in general we do not have access to the score function, we just have access to the data. However we\n",
    "can estimate the score function from the data in a process called \"score matching\", introduced by [Hyvarinen, 2005](https://jmlr.org/papers/volume6/hyvarinen05a/hyvarinen05a.pdf).\n",
    "The core of the method involves the intesting result, that the MSE loss between the score function and the gradient of the log PDF:\n",
    "\n",
    "$$\\mathcal{L}_{mse} = E_{\\mathbf{x} \\sim p(\\mathbf{x})} \\left[ \\left\\lVert \\mathcal{F}_{\\theta}(\\mathbf{x}) - \\nabla_{\\mathbf{x}} \\log p(\\mathbf{x}) \\right\\lVert_2^2 \\right]$$\n",
    "\n",
    "Can be reformulated as:\n",
    "\n",
    "$$\\mathcal{L}_{matching} = E_{\\mathbf{x} \\sim p(\\mathbf{x})} \\left[ \\text{ tr}\\left( \\nabla_{\\mathbf{x}}  \\mathcal{F}_{\\theta}(\\mathbf{x})  \\right) + \\frac{1}{2} \\left\\Vert \\mathcal{F}_{\\theta}(\\mathbf{x}) \\right\\lVert_2^2 \\right]$$\n",
    "\n",
    "\n",
    "See also:\n",
    "- https://github.com/joseph-nagel/diffusion-demo/blob/main/notebooks/swissroll.ipynb\n",
    "- https://github.com/acids-ircam/diffusion_models/\n",
    "- \n"
   ]
  },
  {
   "cell_type": "code",
   "execution_count": null,
   "metadata": {},
   "outputs": [],
   "source": [
    "import jax\n",
    "import jax.numpy as jnp\n",
    "import matplotlib.pyplot as plt\n",
    "\n",
    "from sklearn.datasets import make_swiss_roll\n",
    "import numpy as np\n",
    "from .utils import animate_trajectory, plot_vector_field"
   ]
  },
  {
   "cell_type": "code",
   "execution_count": null,
   "metadata": {},
   "outputs": [],
   "source": [
    "random_state = np.random.RandomState(8923)"
   ]
  },
  {
   "cell_type": "code",
   "execution_count": null,
   "metadata": {},
   "outputs": [],
   "source": [
    "n_samples = 1_000\n",
    "x = make_swiss_roll(n_samples=n_samples, noise=0.0, random_state=random_state)[0]\n",
    "x = 0.13 * x[:, [0, 2]]  # drop z axis"
   ]
  },
  {
   "cell_type": "code",
   "execution_count": null,
   "metadata": {},
   "outputs": [],
   "source": [
    "ax = plt.subplot()\n",
    "\n",
    "ax.scatter(x[:, 0], x[:, 1], s=1)\n",
    "ax.set_aspect(\"equal\")\n",
    "\n",
    "scale = 2.0\n",
    "ax.set_xlim(-scale, scale)\n",
    "ax.set_ylim(-scale, scale)"
   ]
  },
  {
   "cell_type": "code",
   "execution_count": null,
   "metadata": {},
   "outputs": [],
   "source": [
    "n_steps = 100\n",
    "\n",
    "betas = jnp.geomspace(1e-3, 1, n_steps)"
   ]
  },
  {
   "cell_type": "code",
   "execution_count": null,
   "metadata": {},
   "outputs": [],
   "source": [
    "# iterative version\n",
    "def diffuse_one_step(carry, beta):\n",
    "    \"\"\"Diffuse one step\"\"\"\n",
    "    x, key = carry\n",
    "    key, subkey = jax.random.split(key)\n",
    "    noise = jax.random.normal(subkey, shape=x.shape)\n",
    "    x_diffused = jnp.sqrt(1 - beta) * x + jnp.sqrt(beta) * noise\n",
    "    return (x_diffused, key), x_diffused\n",
    "\n",
    "\n",
    "init = (x, jax.random.PRNGKey(876234))\n",
    "\n",
    "x_diffused = jax.lax.scan(diffuse_one_step, init=init, xs=betas)[1]"
   ]
  },
  {
   "cell_type": "code",
   "execution_count": null,
   "metadata": {},
   "outputs": [],
   "source": [
    "animate_trajectory(x_diffused, \"diffusion_iterative.gif\")"
   ]
  },
  {
   "cell_type": "markdown",
   "metadata": {},
   "source": [
    "I you do the math you can directly evaluate the state at time t = idx, see e.g. https://lilianweng.github.io/posts/2021-07-11-diffusion-models/"
   ]
  },
  {
   "cell_type": "code",
   "execution_count": null,
   "metadata": {},
   "outputs": [],
   "source": [
    "alphas = 1 - betas.reshape(-1, 1, 1)\n",
    "alpha_bars = jnp.cumprod(alphas, axis=0)\n",
    "\n",
    "# closed form version\n",
    "noise = jax.random.normal(jax.random.PRNGKey(1234), shape=(n_steps, n_samples, 2))\n",
    "x_diffused_closed = jnp.sqrt(alpha_bars) * x + jnp.sqrt(1 - alpha_bars) * noise"
   ]
  },
  {
   "cell_type": "code",
   "execution_count": null,
   "metadata": {},
   "outputs": [],
   "source": [
    "animate_trajectory(x_diffused_closed, \"diffusion_closed.gif\")"
   ]
  },
  {
   "cell_type": "markdown",
   "metadata": {},
   "source": [
    "## Score Matching\n",
    "\n",
    "\n"
   ]
  },
  {
   "cell_type": "code",
   "execution_count": null,
   "metadata": {},
   "outputs": [],
   "source": [
    "@jax.jit\n",
    "def score_matching_loss(model, samples):\n",
    "    \"\"\"Score matching loss\"\"\"\n",
    "    logp = jax.vmap(model)(samples)\n",
    "    norm_loss = jnp.linalg.norm(logp, axis=-1) ** 2 / 2.0\n",
    "    jacob_mat = jax.vmap(jax.jacobian(model))(samples)\n",
    "\n",
    "    tr_jacobian_loss = jnp.trace(jacob_mat, axis1=-2, axis2=-1)\n",
    "\n",
    "    return (tr_jacobian_loss + norm_loss).mean()"
   ]
  },
  {
   "cell_type": "code",
   "execution_count": null,
   "metadata": {},
   "outputs": [],
   "source": [
    "import equinox as eqx\n",
    "import optax"
   ]
  },
  {
   "cell_type": "code",
   "execution_count": null,
   "metadata": {},
   "outputs": [],
   "source": [
    "class MLP(eqx.Module):\n",
    "    \"\"\"Simple MLP\"\"\"\n",
    "\n",
    "    fc1: eqx.nn.Linear\n",
    "    fc2: eqx.nn.Linear\n",
    "    fc3: eqx.nn.Linear\n",
    "\n",
    "    def __init__(self, in_dim, out_dim, key, hidden_dim=128):\n",
    "        keys = jax.random.split(key, 3)\n",
    "        self.fc1 = eqx.nn.Linear(in_dim, hidden_dim, key=keys[0])\n",
    "        self.fc2 = eqx.nn.Linear(hidden_dim, hidden_dim, key=keys[1])\n",
    "        self.fc3 = eqx.nn.Linear(hidden_dim, out_dim, key=keys[2])\n",
    "\n",
    "    def __call__(self, x):\n",
    "        x = jax.nn.softplus(self.fc1(x))\n",
    "        x = jax.nn.softplus(self.fc2(x))\n",
    "        x = self.fc3(x)\n",
    "        return x"
   ]
  },
  {
   "cell_type": "code",
   "execution_count": null,
   "metadata": {},
   "outputs": [],
   "source": [
    "model = MLP(2, 2, key=jax.random.PRNGKey(1234))"
   ]
  },
  {
   "cell_type": "code",
   "execution_count": null,
   "metadata": {},
   "outputs": [],
   "source": [
    "optimizer = optax.adam(learning_rate=1e-3)\n",
    "opt_state = optimizer.init(model)"
   ]
  },
  {
   "cell_type": "code",
   "execution_count": null,
   "metadata": {},
   "outputs": [],
   "source": [
    "n_steps = 1000\n",
    "\n",
    "\n",
    "@eqx.filter_jit\n",
    "def make_step(model, opt_state, x):\n",
    "    loss_value, grads = eqx.filter_value_and_grad(score_matching_loss)(model, x)\n",
    "    updates, opt_state = optimizer.update(\n",
    "        grads, opt_state, eqx.filter(model, eqx.is_array)\n",
    "    )\n",
    "    model = eqx.apply_updates(model, updates)\n",
    "    return model, opt_state, loss_value\n",
    "\n",
    "\n",
    "for step in range(n_steps):\n",
    "    model, opt_state, train_loss = make_step(model, opt_state, x)\n",
    "    print(f\"Step {step}, loss: {train_loss:.4f}\", end=\"\\r\")"
   ]
  },
  {
   "cell_type": "code",
   "execution_count": null,
   "metadata": {},
   "outputs": [],
   "source": [
    "@jax.jit\n",
    "def sample_simple(model, x, n_steps=70, eps=1e-3):\n",
    "    # create a step function to pass to jax.scan\n",
    "    def step(x, i):\n",
    "        x = x + eps * forward(model, x)\n",
    "        return x, x\n",
    "\n",
    "    return jax.lax.scan(step, x, np.arange(n_steps))[1]"
   ]
  },
  {
   "cell_type": "code",
   "execution_count": null,
   "metadata": {},
   "outputs": [],
   "source": []
  },
  {
   "cell_type": "markdown",
   "metadata": {},
   "source": []
  },
  {
   "cell_type": "code",
   "execution_count": null,
   "metadata": {},
   "outputs": [],
   "source": []
  }
 ],
 "metadata": {
  "kernelspec": {
   "display_name": "jax-intro",
   "language": "python",
   "name": "python3"
  },
  "language_info": {
   "codemirror_mode": {
    "name": "ipython",
    "version": 3
   },
   "file_extension": ".py",
   "mimetype": "text/x-python",
   "name": "python",
   "nbconvert_exporter": "python",
   "pygments_lexer": "ipython3",
   "version": "3.11.9"
  }
 },
 "nbformat": 4,
 "nbformat_minor": 2
}
