{
 "cells": [
  {
   "cell_type": "markdown",
   "metadata": {},
   "source": [
    "# The Astro DDPM\n",
    "\n",
    "In the last part we are going to work with a pre-trained diffusion model for generating astronomical images.\n",
    "\n",
    "\n",
    "The reference implementation in PyTorch is available at: https://github.com/Smith42/astroddpm\n",
    "The paper is here: https://arxiv.org/abs/2111.01713\n",
    "\n",
    "We will implement the reverse diffusion process to generate new images from noise.\n"
   ]
  },
  {
   "cell_type": "code",
   "execution_count": null,
   "metadata": {},
   "outputs": [],
   "source": [
    "from jax import numpy as jnp\n",
    "import jax\n",
    "\n",
    "from unet import UNet\n",
    "import matplotlib.pyplot as plt\n",
    "\n",
    "import numpy as np"
   ]
  },
  {
   "cell_type": "code",
   "execution_count": null,
   "metadata": {},
   "outputs": [],
   "source": [
    "jnp.set_printoptions(precision=4, suppress=True, linewidth=85)"
   ]
  },
  {
   "cell_type": "code",
   "execution_count": null,
   "metadata": {},
   "outputs": [],
   "source": [
    "model = UNet.read(\"../data/models/probes_model_00745000.pt\")"
   ]
  },
  {
   "cell_type": "code",
   "execution_count": null,
   "metadata": {},
   "outputs": [],
   "source": [
    "def cosine_beta_schedule(timesteps, s=0.008):\n",
    "    \"\"\"Cosine schedule\"\"\"\n",
    "    x = jnp.linspace(0.0, 1.0, timesteps + 1)\n",
    "    alphas_cumprod = jnp.cos((x + s) / (1.0 + s) * jnp.pi * 0.5) ** 2\n",
    "    alphas_cumprod = alphas_cumprod / alphas_cumprod[0]\n",
    "    betas = 1 - (alphas_cumprod[1:] / alphas_cumprod[:-1])\n",
    "    return jnp.clip(betas, a_min=0, a_max=0.999)"
   ]
  },
  {
   "cell_type": "code",
   "execution_count": null,
   "metadata": {},
   "outputs": [],
   "source": [
    "from typing import Callable\n",
    "from dataclasses import dataclass\n",
    "from jax.tree_util import register_dataclass\n",
    "\n",
    "\n",
    "@register_dataclass\n",
    "@dataclass\n",
    "class DiffusionModel:\n",
    "    \"\"\"Diffusion model\"\"\"\n",
    "\n",
    "    beta: jax.Array\n",
    "    alpha: jax.Array\n",
    "    alpha_bar: jax.Array\n",
    "    model: Callable\n",
    "\n",
    "    @classmethod\n",
    "    def from_beta(cls, beta, model):\n",
    "        \"\"\"Create diffusion model from beta schedule. Beta and the model must be consistent!\"\"\"\n",
    "        alpha = 1.0 - beta\n",
    "        alpha_bar = jnp.cumprod(alpha)\n",
    "        return cls(beta=beta, alpha=alpha, alpha_bar=alpha_bar, model=model)\n",
    "\n",
    "    @jax.jit\n",
    "    def reverse_diffusion_step(self, x_t, t):\n",
    "        \"\"\"Reverse diffusion step\"\"\"\n",
    "        predicted_noise = self.model(x_t, t)\n",
    "        jax.debug.print(\"noise {}\", predicted_noise.mean())\n",
    "\n",
    "        alpha_t = jnp.expand_dims(self.alpha[t], axis=(1, 2, 3))\n",
    "        alpha_bar_t = jnp.expand_dims(self.alpha_bar[t], axis=(1, 2, 3))\n",
    "\n",
    "        mu = (1.0 / jnp.sqrt(alpha_t)) * (\n",
    "            x_t - (1.0 - alpha_t) / jnp.sqrt(1.0 - alpha_bar_t) * predicted_noise\n",
    "        )\n",
    "        jax.debug.print(\"mu {}\", predicted_noise.mean())\n",
    "        return jnp.clip(mu, -1, 1)\n",
    "\n",
    "    def sample(self, key, image_size, batch_size=1):\n",
    "        \"\"\"Generate images using reverse diffusion process.\"\"\"\n",
    "        # Start from random noise\n",
    "        key, subkey = jax.random.split(key)\n",
    "\n",
    "        x = jax.random.normal(subkey, (batch_size, 3) + image_size)\n",
    "\n",
    "        # Reverse diffusion TODO: implement as JAX scan...\n",
    "        for t in reversed(range(len(self.beta))):\n",
    "            key, subkey = jax.random.split(key)\n",
    "            t_batch = jnp.ones((batch_size,), dtype=jnp.int32) * t\n",
    "\n",
    "            x = self.reverse_diffusion_step(x, t_batch)\n",
    "\n",
    "            noise = jax.random.normal(subkey, x.shape) if t > 0 else 0\n",
    "\n",
    "            # thats the brownian motion term from the Langevin Dynamics example\n",
    "            x = x + jnp.sqrt(self.beta[t]) * noise\n",
    "            jax.debug.print(\"{}\", x.mean())\n",
    "\n",
    "        return x"
   ]
  },
  {
   "cell_type": "code",
   "execution_count": null,
   "metadata": {},
   "outputs": [],
   "source": [
    "time_steps = 1000\n",
    "beta = cosine_beta_schedule(time_steps)\n",
    "diffusion_model = DiffusionModel.from_beta(beta, model)"
   ]
  },
  {
   "cell_type": "code",
   "execution_count": null,
   "metadata": {},
   "outputs": [],
   "source": [
    "result = diffusion_model.sample(jax.random.PRNGKey(237), (256, 256))"
   ]
  },
  {
   "cell_type": "code",
   "execution_count": null,
   "metadata": {},
   "outputs": [],
   "source": [
    "def reverse_transform(x):\n",
    "    \"\"\"Reverse transform see Eq (9) of https://arxiv.org/pdf/2111.01713v1\"\"\"\n",
    "    return np.flip((0.5 * (x + 1) / x.max()).T, axis=-1)"
   ]
  },
  {
   "cell_type": "code",
   "execution_count": null,
   "metadata": {},
   "outputs": [],
   "source": [
    "data = reverse_transform(result[0])\n",
    "\n",
    "\n",
    "def percentile_clip(x, pmin=0.05, pmax=99.99):\n",
    "    \"\"\"Percentile clip\"\"\"\n",
    "    pmin = np.percentile(x, pmin)\n",
    "    pmax = np.percentile(x, pmax)\n",
    "    return np.clip(x, pmin, pmax)"
   ]
  }
 ],
 "metadata": {
  "kernelspec": {
   "display_name": ".venv",
   "language": "python",
   "name": "python3"
  },
  "language_info": {
   "codemirror_mode": {
    "name": "ipython",
    "version": 3
   },
   "file_extension": ".py",
   "mimetype": "text/x-python",
   "name": "python",
   "nbconvert_exporter": "python",
   "pygments_lexer": "ipython3",
   "version": "3.10.16"
  }
 },
 "nbformat": 4,
 "nbformat_minor": 2
}
